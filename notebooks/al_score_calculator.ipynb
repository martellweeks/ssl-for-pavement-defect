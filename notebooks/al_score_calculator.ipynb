{
 "cells": [
  {
   "cell_type": "code",
   "execution_count": null,
   "metadata": {},
   "outputs": [],
   "source": [
    "import torch, detectron2\n",
    "TORCH_VERSION = \".\".join(torch.__version__.split(\".\")[:2])\n",
    "CUDA_VERSION = torch.__version__.split(\"+\")[-1]\n",
    "print(\"torch: \", TORCH_VERSION, \"; cuda: \", CUDA_VERSION)\n",
    "print(\"detectron2:\", detectron2.__version__)"
   ]
  },
  {
   "cell_type": "code",
   "execution_count": null,
   "metadata": {},
   "outputs": [],
   "source": [
    "from detectron2.utils.logger import setup_logger\n",
    "setup_logger()\n",
    "\n",
    "import numpy as np\n",
    "import os\n",
    "from detectron2 import model_zoo\n",
    "from detectron2.data import MetadataCatalog, DatasetCatalog, DatasetMapper, build_detection_train_loader, build_detection_test_loader\n",
    "from detectron2.data.datasets import register_coco_instances\n",
    "from detectron2.evaluation import COCOEvaluator\n",
    "from detectron2.engine import DefaultTrainer\n",
    "from detectron2.config import get_cfg\n",
    "from detectron2.engine.hooks import HookBase\n",
    "from detectron2.utils.logger import log_every_n_seconds\n",
    "from detectron2.checkpoint import DetectionCheckpointer, Checkpointer\n",
    "import detectron2.utils.comm as comm\n",
    "from detectron2.utils.visualizer import Visualizer\n",
    "from detectron2.evaluation.fast_eval_api import COCOeval_opt\n",
    "import glob\n",
    "import cv2\n",
    "from matplotlib import pyplot as plt\n",
    "import torch\n",
    "import time\n",
    "import datetime\n",
    "import logging\n",
    "import pycocotools\n",
    "import json"
   ]
  },
  {
   "cell_type": "code",
   "execution_count": null,
   "metadata": {},
   "outputs": [],
   "source": [
    "project_path = \"../\"\n",
    "register_coco_instances(\"train\", {}, os.path.join(project_path, \"data/annotations/train_cats_3411.json\"), os.path.join(project_path, \"data/train\"))\n",
    "register_coco_instances(\"val\", {}, os.path.join(project_path, \"data/annotations/val_cats_3411.json\"), os.path.join(project_path, \"data/val\"))\n",
    "register_coco_instances(\"test\", {}, os.path.join(project_path, \"data/annotations/test_cats_3411.json\"), os.path.join(project_path, \"data/test\"))"
   ]
  }
 ],
 "metadata": {
  "kernelspec": {
   "display_name": "Python 3",
   "language": "python",
   "name": "python3"
  },
  "language_info": {
   "name": "python",
   "version": "3.9.5"
  },
  "orig_nbformat": 4,
  "vscode": {
   "interpreter": {
    "hash": "f9f85f796d01129d0dd105a088854619f454435301f6ffec2fea96ecbd9be4ac"
   }
  }
 },
 "nbformat": 4,
 "nbformat_minor": 2
}
