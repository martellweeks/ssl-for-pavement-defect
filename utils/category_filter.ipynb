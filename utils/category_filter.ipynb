{
 "cells": [
  {
   "cell_type": "code",
   "execution_count": 27,
   "metadata": {},
   "outputs": [],
   "source": [
    "from pycocotools.coco import COCO\n",
    "from glob import glob\n",
    "import shutil\n",
    "import os\n",
    "from tqdm import tqdm\n",
    "import json\n",
    "import numpy as np"
   ]
  },
  {
   "cell_type": "code",
   "execution_count": 68,
   "metadata": {},
   "outputs": [],
   "source": [
    "coco_file_path = \"../data/annotations/A12/vanilla/train.json\"\n",
    "coco_json_file = open(coco_file_path)\n",
    "coco_json = json.load(coco_json_file)"
   ]
  },
  {
   "cell_type": "code",
   "execution_count": 69,
   "metadata": {},
   "outputs": [
    {
     "name": "stdout",
     "output_type": "stream",
     "text": [
      "{'id': 3, 'image_id': 18, 'category_id': 4, 'segmentation': [[1086.13, 9.89, 1061.39, 49.47, 1053.97, 118.75, 1076.24, 195.45, 1081.18, 272.14, 1093.55, 343.89, 1135.61, 343.89, 1098.5, 158.33, 1083.66, 91.53, 1091.08, 56.9, 1125.71, 0.0, 1125.68, 0.0]], 'area': 11756.0, 'bbox': [1053.97, 0.0, 81.64, 343.89], 'iscrowd': 0, 'attributes': {'occluded': False}}\n"
     ]
    }
   ],
   "source": [
    "print(coco_json['annotations'][1])"
   ]
  },
  {
   "cell_type": "code",
   "execution_count": 70,
   "metadata": {},
   "outputs": [
    {
     "name": "stdout",
     "output_type": "stream",
     "text": [
      "{'id': 1, 'name': 'bleeding', 'supercategory': ''}\n",
      "{'id': 2, 'name': 'raveling', 'supercategory': ''}\n",
      "{'id': 3, 'name': 'crack_transverse', 'supercategory': ''}\n",
      "{'id': 4, 'name': 'crack_longitudinal', 'supercategory': ''}\n",
      "{'id': 5, 'name': 'crack_edge', 'supercategory': ''}\n",
      "{'id': 6, 'name': 'crack_alligator', 'supercategory': ''}\n",
      "{'id': 7, 'name': 'crack_block', 'supercategory': ''}\n",
      "{'id': 8, 'name': 'shoving', 'supercategory': ''}\n",
      "{'id': 9, 'name': 'rutting', 'supercategory': ''}\n",
      "{'id': 10, 'name': 'potholes', 'supercategory': ''}\n",
      "{'id': 11, 'name': 'patch', 'supercategory': ''}\n",
      "{'id': 12, 'name': 'unknown', 'supercategory': ''}\n",
      "{'id': 13, 'name': 'crack_corner', 'supercategory': ''}\n",
      "{'id': 14, 'name': 'spalling', 'supercategory': ''}\n"
     ]
    }
   ],
   "source": [
    "for cat in coco_json['categories']:\n",
    "    print(cat)"
   ]
  },
  {
   "cell_type": "code",
   "execution_count": 71,
   "metadata": {},
   "outputs": [
    {
     "name": "stdout",
     "output_type": "stream",
     "text": [
      "[5.00e+00 5.01e+02 9.17e+02 1.54e+03 1.01e+02 1.40e+01 5.00e+00 0.00e+00\n",
      " 0.00e+00 1.20e+02 8.95e+02 4.73e+02 1.00e+00 0.00e+00]\n"
     ]
    }
   ],
   "source": [
    "cat_counts = np.zeros(len(coco_json['categories']))\n",
    "for anno in coco_json['annotations']:\n",
    "    cat_counts[anno['category_id'] - 1] += 1\n",
    "print(cat_counts)"
   ]
  },
  {
   "cell_type": "code",
   "execution_count": 72,
   "metadata": {},
   "outputs": [],
   "source": [
    "large_annotations = list()\n",
    "small_annotations = list()\n",
    "filt_cats = [11]\n",
    "for anno in coco_json['annotations']:\n",
    "    if anno['category_id'] in filt_cats:\n",
    "        large_annotations.append(anno)\n",
    "    else:\n",
    "        small_annotations.append(anno)"
   ]
  },
  {
   "cell_type": "code",
   "execution_count": 73,
   "metadata": {},
   "outputs": [
    {
     "name": "stdout",
     "output_type": "stream",
     "text": [
      "895\n",
      "3677\n",
      "4572\n"
     ]
    }
   ],
   "source": [
    "print(len(large_annotations))\n",
    "print(len(small_annotations))\n",
    "print(len(coco_json['annotations']))"
   ]
  },
  {
   "cell_type": "code",
   "execution_count": 74,
   "metadata": {},
   "outputs": [],
   "source": [
    "coco_json['annotations'] = large_annotations"
   ]
  },
  {
   "cell_type": "code",
   "execution_count": 75,
   "metadata": {},
   "outputs": [],
   "source": [
    "with open(\"../data/annotations/A12/vanilla/train_patchonly.json\", \"w\") as outfile:\n",
    "    json.dump(coco_json, outfile)"
   ]
  },
  {
   "cell_type": "code",
   "execution_count": 32,
   "metadata": {},
   "outputs": [],
   "source": [
    "coco_json['annotations'] = small_annotations"
   ]
  },
  {
   "cell_type": "code",
   "execution_count": 33,
   "metadata": {},
   "outputs": [],
   "source": [
    "with open(\"../data/annotations/train_cats_other.json\", \"w\") as outfile:\n",
    "    json.dump(coco_json, outfile)"
   ]
  },
  {
   "cell_type": "code",
   "execution_count": null,
   "metadata": {},
   "outputs": [],
   "source": []
  }
 ],
 "metadata": {
  "kernelspec": {
   "display_name": "sp973",
   "language": "python",
   "name": "python3"
  },
  "language_info": {
   "codemirror_mode": {
    "name": "ipython",
    "version": 3
   },
   "file_extension": ".py",
   "mimetype": "text/x-python",
   "name": "python",
   "nbconvert_exporter": "python",
   "pygments_lexer": "ipython3",
   "version": "3.9.15"
  },
  "orig_nbformat": 4,
  "vscode": {
   "interpreter": {
    "hash": "e7548dcf02940ba1ce34cbf7c7501f0fe72fb0189c257350d1e81a7023d5a36c"
   }
  }
 },
 "nbformat": 4,
 "nbformat_minor": 2
}
