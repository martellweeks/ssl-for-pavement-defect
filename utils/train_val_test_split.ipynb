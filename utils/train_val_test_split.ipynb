{
 "cells": [
  {
   "cell_type": "code",
   "execution_count": 1,
   "metadata": {},
   "outputs": [],
   "source": [
    "from sklearn.model_selection import train_test_split\n",
    "import pandas as pd\n",
    "from pycocotools.coco import COCO\n",
    "from glob import glob\n",
    "import shutil\n",
    "import os\n",
    "from tqdm import tqdm\n",
    "import json"
   ]
  },
  {
   "cell_type": "code",
   "execution_count": 2,
   "metadata": {},
   "outputs": [
    {
     "name": "stdout",
     "output_type": "stream",
     "text": [
      "11681\n",
      "11681\n",
      "A12Area6SwallowsCrossMountnessingHuttonBrentwoodLondon_sideview_000000_000126_Lane1\n"
     ]
    }
   ],
   "source": [
    "src_path = \"../data/A12\"\n",
    "image_files = glob(os.path.join(src_path, \"*.jpg\"))\n",
    "print(len(image_files))\n",
    "\n",
    "image_metadata = pd.read_csv(os.path.join(src_path, \"reference.csv\"))\n",
    "image_names = image_metadata[:].file_name.tolist()\n",
    "print(len(image_names))\n",
    "print(image_names[0])\n",
    "\n",
    "assert(len(image_files) == len(image_names))\n"
   ]
  },
  {
   "cell_type": "code",
   "execution_count": 3,
   "metadata": {},
   "outputs": [
    {
     "name": "stdout",
     "output_type": "stream",
     "text": [
      "8176 2453 1052 11681\n"
     ]
    }
   ],
   "source": [
    "# Train : Val : Test = 7 : 2 : 1\n",
    "train_names, test_names = train_test_split(image_names, test_size=0.3, random_state=777, shuffle=True)\n",
    "val_names, test_names = train_test_split(test_names, test_size=0.3, random_state=777, shuffle=True)\n",
    "\n",
    "print(len(train_names), len(val_names), len(test_names), sum([len(train_names), len(val_names), len(test_names)]))"
   ]
  },
  {
   "cell_type": "code",
   "execution_count": 4,
   "metadata": {},
   "outputs": [],
   "source": [
    "def batch_copy_files(file_name: list, src_path: str, dest_path: str):\n",
    "    for file in tqdm(file_name):\n",
    "        shutil.copy(os.path.join(src_path, file), dest_path)"
   ]
  },
  {
   "cell_type": "code",
   "execution_count": 5,
   "metadata": {},
   "outputs": [
    {
     "name": "stdout",
     "output_type": "stream",
     "text": [
      "loading annotations into memory...\n",
      "Done (t=0.09s)\n",
      "creating index...\n",
      "index created!\n"
     ]
    }
   ],
   "source": [
    "coco_file_path = \"../data/annotations/A12/raw.json\"\n",
    "coco_annotation = COCO(annotation_file=coco_file_path)"
   ]
  },
  {
   "cell_type": "code",
   "execution_count": 6,
   "metadata": {},
   "outputs": [
    {
     "name": "stdout",
     "output_type": "stream",
     "text": [
      "[{'id': 1, 'name': 'bleeding', 'supercategory': ''}, {'id': 2, 'name': 'raveling', 'supercategory': ''}, {'id': 3, 'name': 'crack_transverse', 'supercategory': ''}, {'id': 4, 'name': 'crack_longitudinal', 'supercategory': ''}, {'id': 5, 'name': 'crack_edge', 'supercategory': ''}, {'id': 6, 'name': 'crack_alligator', 'supercategory': ''}, {'id': 7, 'name': 'crack_block', 'supercategory': ''}, {'id': 8, 'name': 'shoving', 'supercategory': ''}, {'id': 9, 'name': 'rutting', 'supercategory': ''}, {'id': 10, 'name': 'potholes', 'supercategory': ''}, {'id': 11, 'name': 'patch', 'supercategory': ''}, {'id': 12, 'name': 'unknown', 'supercategory': ''}, {'id': 13, 'name': 'crack_corner', 'supercategory': ''}, {'id': 14, 'name': 'spalling', 'supercategory': ''}]\n"
     ]
    }
   ],
   "source": [
    "cat_ids = coco_annotation.getCatIds()\n",
    "cats = coco_annotation.loadCats(cat_ids)\n",
    "print(cats)"
   ]
  },
  {
   "cell_type": "code",
   "execution_count": 7,
   "metadata": {},
   "outputs": [
    {
     "name": "stdout",
     "output_type": "stream",
     "text": [
      "dict_keys(['licenses', 'info', 'categories', 'images', 'annotations'])\n"
     ]
    }
   ],
   "source": [
    "coco_json_file = open(coco_file_path)\n",
    "coco_json = json.load(coco_json_file)\n",
    "\n",
    "print(coco_json.keys())"
   ]
  },
  {
   "cell_type": "code",
   "execution_count": 8,
   "metadata": {},
   "outputs": [
    {
     "name": "stdout",
     "output_type": "stream",
     "text": [
      "<class 'list'> {'id': 1, 'width': 2464, 'height': 2056, 'file_name': 'A12Area6SwallowsCrossMountnessingHuttonBrentwoodLondon_sideview_000025_000416_Lane2.jpg', 'license': 0, 'flickr_url': '', 'coco_url': '', 'date_captured': 0}\n",
      "<class 'list'> {'id': 1, 'image_id': 16, 'category_id': 4, 'segmentation': [[811.5, 2056.0, 816.5, 1828.4, 811.5, 1637.9, 799.1, 1447.4, 786.76, 1318.7, 863.46, 1274.17, 937.68, 1185.1, 920.37, 1118.3, 940.16, 1046.55, 1011.91, 1053.97, 984.69, 1123.24, 984.69, 1202.42, 880.78, 1316.23, 848.6, 1380.6, 870.9, 1603.2, 880.8, 1786.3, 861.0, 2056.0]], 'area': 61222.0, 'bbox': [786.76, 1046.55, 225.15, 1009.45], 'iscrowd': 0, 'attributes': {'occluded': False}}\n"
     ]
    }
   ],
   "source": [
    "print(type(coco_json[\"images\"]), coco_json[\"images\"][0])\n",
    "print(type(coco_json[\"annotations\"]), coco_json[\"annotations\"][0])"
   ]
  },
  {
   "cell_type": "code",
   "execution_count": 9,
   "metadata": {},
   "outputs": [],
   "source": [
    "def coco_split(file_name: list, coco_json: dict):\n",
    "    coco_output = dict()\n",
    "    coco_output[\"licenses\"] = coco_json[\"licenses\"]\n",
    "    coco_output[\"info\"] = coco_json[\"info\"]\n",
    "    coco_output[\"categories\"] = coco_json[\"categories\"]\n",
    "    coco_output[\"images\"] = list()\n",
    "    coco_output[\"annotations\"] = list()\n",
    "    ids = list()\n",
    "    for image in coco_json[\"images\"]:\n",
    "        if image[\"file_name\"].split('.', -1)[0] in file_name:\n",
    "            coco_output[\"images\"].append(image)\n",
    "            ids.append(image[\"id\"])\n",
    "    for ann in coco_json[\"annotations\"]:\n",
    "        if ann[\"image_id\"] in ids:\n",
    "            coco_output[\"annotations\"].append(ann)\n",
    "    return coco_output"
   ]
  },
  {
   "cell_type": "code",
   "execution_count": 10,
   "metadata": {},
   "outputs": [
    {
     "name": "stdout",
     "output_type": "stream",
     "text": [
      "[{'name': '', 'id': 0, 'url': ''}] {'contributor': '', 'date_created': '', 'description': '', 'url': '', 'version': '', 'year': ''} [{'id': 1, 'name': 'bleeding', 'supercategory': ''}, {'id': 2, 'name': 'raveling', 'supercategory': ''}, {'id': 3, 'name': 'crack_transverse', 'supercategory': ''}, {'id': 4, 'name': 'crack_longitudinal', 'supercategory': ''}, {'id': 5, 'name': 'crack_edge', 'supercategory': ''}, {'id': 6, 'name': 'crack_alligator', 'supercategory': ''}, {'id': 7, 'name': 'crack_block', 'supercategory': ''}, {'id': 8, 'name': 'shoving', 'supercategory': ''}, {'id': 9, 'name': 'rutting', 'supercategory': ''}, {'id': 10, 'name': 'potholes', 'supercategory': ''}, {'id': 11, 'name': 'patch', 'supercategory': ''}, {'id': 12, 'name': 'unknown', 'supercategory': ''}, {'id': 13, 'name': 'crack_corner', 'supercategory': ''}, {'id': 14, 'name': 'spalling', 'supercategory': ''}]\n",
      "8175 2453 1052\n"
     ]
    },
    {
     "ename": "AssertionError",
     "evalue": "",
     "output_type": "error",
     "traceback": [
      "\u001b[0;31m---------------------------------------------------------------------------\u001b[0m",
      "\u001b[0;31mAssertionError\u001b[0m                            Traceback (most recent call last)",
      "\u001b[1;32m/home/cituser/Desktop/sp973/pavement-defect-detection/utils/train_val_test_split.ipynb Cell 10\u001b[0m in \u001b[0;36m7\n\u001b[1;32m      <a href='vscode-notebook-cell://ssh-remote%2B7b22686f73744e616d65223a224349545043385f6c696e75785f76706e227d/home/cituser/Desktop/sp973/pavement-defect-detection/utils/train_val_test_split.ipynb#X12sdnNjb2RlLXJlbW90ZQ%3D%3D?line=4'>5</a>\u001b[0m \u001b[39mprint\u001b[39m(coco_train[\u001b[39m\"\u001b[39m\u001b[39mlicenses\u001b[39m\u001b[39m\"\u001b[39m], coco_train[\u001b[39m\"\u001b[39m\u001b[39minfo\u001b[39m\u001b[39m\"\u001b[39m], coco_train[\u001b[39m\"\u001b[39m\u001b[39mcategories\u001b[39m\u001b[39m\"\u001b[39m])\n\u001b[1;32m      <a href='vscode-notebook-cell://ssh-remote%2B7b22686f73744e616d65223a224349545043385f6c696e75785f76706e227d/home/cituser/Desktop/sp973/pavement-defect-detection/utils/train_val_test_split.ipynb#X12sdnNjb2RlLXJlbW90ZQ%3D%3D?line=5'>6</a>\u001b[0m \u001b[39mprint\u001b[39m(\u001b[39mlen\u001b[39m(coco_train[\u001b[39m\"\u001b[39m\u001b[39mimages\u001b[39m\u001b[39m\"\u001b[39m]), \u001b[39mlen\u001b[39m(coco_val[\u001b[39m\"\u001b[39m\u001b[39mimages\u001b[39m\u001b[39m\"\u001b[39m]), \u001b[39mlen\u001b[39m(coco_test[\u001b[39m\"\u001b[39m\u001b[39mimages\u001b[39m\u001b[39m\"\u001b[39m]))\n\u001b[0;32m----> <a href='vscode-notebook-cell://ssh-remote%2B7b22686f73744e616d65223a224349545043385f6c696e75785f76706e227d/home/cituser/Desktop/sp973/pavement-defect-detection/utils/train_val_test_split.ipynb#X12sdnNjb2RlLXJlbW90ZQ%3D%3D?line=6'>7</a>\u001b[0m \u001b[39massert\u001b[39;00m \u001b[39mlen\u001b[39m(train_names) \u001b[39m==\u001b[39m \u001b[39mlen\u001b[39m(coco_train[\u001b[39m\"\u001b[39m\u001b[39mimages\u001b[39m\u001b[39m\"\u001b[39m])\n",
      "\u001b[0;31mAssertionError\u001b[0m: "
     ]
    }
   ],
   "source": [
    "coco_train = coco_split(file_name=train_names, coco_json=coco_json)\n",
    "coco_val = coco_split(file_name=val_names, coco_json=coco_json)\n",
    "coco_test = coco_split(file_name=test_names, coco_json=coco_json)\n",
    "\n",
    "print(coco_train[\"licenses\"], coco_train[\"info\"], coco_train[\"categories\"])\n",
    "print(len(coco_train[\"images\"]), len(coco_val[\"images\"]), len(coco_test[\"images\"]))\n",
    "assert len(train_names) == len(coco_train[\"images\"])"
   ]
  },
  {
   "cell_type": "code",
   "execution_count": 12,
   "metadata": {},
   "outputs": [],
   "source": [
    "with open(\"/home/cituser/Desktop/sp973/pavement-defect-detection/data/annotations/A12/vanilla/train.json\", \"w\") as outfile:\n",
    "    json.dump(coco_train, outfile)\n",
    "\n",
    "with open(\"/home/cituser/Desktop/sp973/pavement-defect-detection/data/annotations/A12/vanilla/val.json\", \"w\") as outfile:\n",
    "    json.dump(coco_val, outfile)\n",
    "\n",
    "with open(\"/home/cituser/Desktop/sp973/pavement-defect-detection/data/annotations/A12/vanilla/test.json\", \"w\") as outfile:\n",
    "    json.dump(coco_test, outfile)"
   ]
  },
  {
   "cell_type": "code",
   "execution_count": 83,
   "metadata": {},
   "outputs": [
    {
     "name": "stderr",
     "output_type": "stream",
     "text": [
      "100%|██████████| 1639/1639 [00:02<00:00, 665.58it/s]\n",
      "100%|██████████| 492/492 [00:00<00:00, 644.01it/s]\n",
      "100%|██████████| 211/211 [00:00<00:00, 779.42it/s]\n"
     ]
    }
   ],
   "source": [
    "batch_copy_files(file_name=train_names, src_path=os.path.join(src_path, \"img/\"), dest_path=\"../data/train/\")\n",
    "batch_copy_files(file_name=val_names, src_path=os.path.join(src_path, \"img/\"), dest_path=\"../data/val/\")\n",
    "batch_copy_files(file_name=test_names, src_path=os.path.join(src_path, \"img/\"), dest_path=\"../data/test/\")"
   ]
  }
 ],
 "metadata": {
  "kernelspec": {
   "display_name": "Python 3.9.13 ('torchenv')",
   "language": "python",
   "name": "python3"
  },
  "language_info": {
   "codemirror_mode": {
    "name": "ipython",
    "version": 3
   },
   "file_extension": ".py",
   "mimetype": "text/x-python",
   "name": "python",
   "nbconvert_exporter": "python",
   "pygments_lexer": "ipython3",
   "version": "3.9.15"
  },
  "orig_nbformat": 4,
  "vscode": {
   "interpreter": {
    "hash": "f236a59d749daa57b9b426d2513743da14b3dd7a4b8fba1bce8c179068ad351a"
   }
  }
 },
 "nbformat": 4,
 "nbformat_minor": 2
}
